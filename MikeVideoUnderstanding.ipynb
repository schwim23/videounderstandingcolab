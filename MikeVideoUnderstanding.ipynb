{
  "nbformat": 4,
  "nbformat_minor": 0,
  "metadata": {
    "colab": {
      "provenance": [],
      "authorship_tag": "ABX9TyNX7HVHSpGEbHtuPVaxKIHU",
      "include_colab_link": true
    },
    "kernelspec": {
      "name": "python3",
      "display_name": "Python 3"
    },
    "language_info": {
      "name": "python"
    }
  },
  "cells": [
    {
      "cell_type": "markdown",
      "metadata": {
        "id": "view-in-github",
        "colab_type": "text"
      },
      "source": [
        "<a href=\"https://colab.research.google.com/github/schwim23/videounderstandingcolab/blob/main/MikeVideoUnderstanding.ipynb\" target=\"_parent\"><img src=\"https://colab.research.google.com/assets/colab-badge.svg\" alt=\"Open In Colab\"/></a>"
      ]
    },
    {
      "cell_type": "markdown",
      "source": [
        "# Mike's Gemini Video Understanding Colab\n",
        "This Colab demonstrates how easy it is to use Gemini to summarize and analyze the sentiment of the contents of a YouTube video. The default URL is a video of two Golf influencers demonstrating golf swing techniques (https://www.youtube.com/watch?v=igorHJJkTjc.)\n",
        "\n",
        "The prompt asks for Gemini to summarize and analyze the sentiment of the video content and any commercial products it recognizes in the video.\n",
        "Feel free to change the Gemini Model and YT Video URL to test it out further!\n"
      ],
      "metadata": {
        "id": "A77mpmCm0ueu"
      }
    },
    {
      "cell_type": "markdown",
      "source": [
        "Import Dependencies"
      ],
      "metadata": {
        "id": "7uhYj3GNjVCb"
      }
    },
    {
      "cell_type": "code",
      "source": [
        "import base64\n",
        "import os\n",
        "from google import genai\n",
        "from google.genai import types\n",
        "from google.colab import userdata\n"
      ],
      "metadata": {
        "id": "YfAu8vQxjaNE"
      },
      "execution_count": 1,
      "outputs": []
    },
    {
      "cell_type": "markdown",
      "source": [
        "Import Google API Key"
      ],
      "metadata": {
        "id": "nDpq7hpzjfbb"
      }
    },
    {
      "cell_type": "code",
      "source": [
        "  GOOGLE_API_KEY= userdata.get('GOOGLE_API_KEY')"
      ],
      "metadata": {
        "id": "3ShipsvHjnCb"
      },
      "execution_count": 2,
      "outputs": []
    },
    {
      "cell_type": "markdown",
      "source": [
        "Input Gemini Model"
      ],
      "metadata": {
        "id": "KFtSigJt1sg7"
      }
    },
    {
      "cell_type": "code",
      "source": [
        "GEMINI_MODEL = \"gemini-2.0-flash\" # @param {\"type\":\"string\"}\n"
      ],
      "metadata": {
        "id": "o-_yfVUD1wYU"
      },
      "execution_count": 3,
      "outputs": []
    },
    {
      "cell_type": "markdown",
      "source": [
        "Insert Link to YouTube Video"
      ],
      "metadata": {
        "id": "yAvfnnObyN6e"
      }
    },
    {
      "cell_type": "markdown",
      "source": [],
      "metadata": {
        "id": "oKG5Vf-RInKO"
      }
    },
    {
      "cell_type": "code",
      "source": [
        "VIDEO_URL = \"https://www.youtube.com/watch?v=igorHJJkTjc\" # @param {\"type\":\"string\"}\n"
      ],
      "metadata": {
        "id": "wdUunm1tyHb9"
      },
      "execution_count": 4,
      "outputs": []
    },
    {
      "cell_type": "code",
      "execution_count": 5,
      "metadata": {
        "colab": {
          "base_uri": "https://localhost:8080/"
        },
        "id": "EHVenJB1IxKd",
        "outputId": "2ae21be9-8309-40aa-df2f-b46356f43338"
      },
      "outputs": [
        {
          "output_type": "stream",
          "name": "stdout",
          "text": [
            "Okay! Here is the information you requested regarding the sentiment of the video.\n",
            "\n",
            "\n",
            "**Topics discussed:**\n",
            "\n",
            "*   Golf Club- (Positive)\n",
            "*   Golf swing-(Positive)\n",
            "* Golf slice-(Negative)\n",
            "* Backswing-(Positive)\n",
            "* Downswing-(Positive)\n",
            "* Takeway-(Positive)\n",
            "\n",
            "**Commercial Products Mentioned:**\n",
            "\n",
            "*   G/ Fore Golf-(Positive)\n",
            "*   Taylor Made TP5 -(Positive)\n",
            "* Arccos-(Neutral)\n",
            "* Cuomo-(Neutral)\n",
            "\n",
            "**Final Assessment:**\n",
            "\n",
            "The product with the best sentiment is **G/ FORE GOLF** as the hosts mention if you have that type of swing you could be hitting the greatest courses and being as good as some of the best players in the world."
          ]
        }
      ],
      "source": [
        "def generate():\n",
        "  client = genai.Client(\n",
        "\n",
        "#Import API Key\n",
        "\n",
        "  api_key=GOOGLE_API_KEY,\n",
        "    )\n",
        "#Import user input for Gemini Model\n",
        "  model = GEMINI_MODEL\n",
        "\n",
        "#Create instructions and prompt inluding the link to the YT video\n",
        "  contents = [\n",
        "        types.Content(\n",
        "            role=\"user\",\n",
        "            parts=[\n",
        "                types.Part.from_uri(\n",
        "                    file_uri= VIDEO_URL,\n",
        "                    mime_type=\"video/*\",\n",
        "                ),\n",
        "                types.Part.from_text(text=\"\"\"INSERT_INPUT_HERE\"\"\"),\n",
        "            ],\n",
        "        ),\n",
        "    ]\n",
        "  generate_content_config = types.GenerateContentConfig(\n",
        "        temperature=1,\n",
        "        top_p=0.95,\n",
        "        top_k=40,\n",
        "        max_output_tokens=8192,\n",
        "        response_mime_type=\"text/plain\",\n",
        "        system_instruction=[\n",
        "            types.Part.from_text(text=\"\"\"You are a sentiment analyzer who watches videos and summarizes them and shares the sentiment of the topics discussed in them.  In your resposne create two bulleted lists. The first is a list of topics discussed. The second is a list of commercial products. For both lists, indicate whether the video shows a positive, neutral or negative sentiment for each item in the list. If there are multiple commercial items discussed in the same category, after you listed out all of the sentiments, tell me which one product has the best sentiment.\"\"\"),\n",
        "        ],\n",
        "    )\n",
        "\n",
        "  for chunk in client.models.generate_content_stream(\n",
        "        model=model,\n",
        "        contents=contents,\n",
        "        config=generate_content_config,\n",
        "    ):\n",
        "        print(chunk.text, end=\"\")\n",
        "\n",
        "\n",
        "if __name__ == \"__main__\":\n",
        "    generate()\n"
      ]
    }
  ]
}